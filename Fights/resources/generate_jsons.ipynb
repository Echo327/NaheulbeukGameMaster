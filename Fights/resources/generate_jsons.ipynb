{
 "cells": [
  {
   "cell_type": "markdown",
   "id": "9e970de1",
   "metadata": {},
   "source": [
    "### Initialisation"
   ]
  },
  {
   "cell_type": "code",
   "execution_count": 1,
   "id": "f1b6ee14",
   "metadata": {},
   "outputs": [],
   "source": [
    "import json"
   ]
  },
  {
   "cell_type": "code",
   "execution_count": 2,
   "id": "c745f080",
   "metadata": {},
   "outputs": [],
   "source": [
    "crit_list = []"
   ]
  },
  {
   "cell_type": "markdown",
   "id": "9fe40614",
   "metadata": {},
   "source": [
    "### crit Dictionaries"
   ]
  },
  {
   "cell_type": "markdown",
   "id": "d984c23b",
   "metadata": {},
   "source": [
    "#### Attaque critique - Arme tranchante"
   ]
  },
  {
   "cell_type": "code",
   "execution_count": 3,
   "id": "0ec172df",
   "metadata": {},
   "outputs": [],
   "source": [
    "# Unique Entries\n",
    "critical_hits_bladed=dict([\n",
    "    (\"name\", \"critical_hits_bladed\"),\n",
    "    (1, \"Incision profonde. Degats+1\"),\n",
    "    (3, \"Incision vraiment profonde. Degats+2\"),\n",
    "    (5, \"Plaies impressionantes. Degats+3, Armure PR-1\"),\n",
    "    (7, \"Coup precis. Degats+4, Armure PR-2\"),\n",
    "    (9, \"Coup precis de bourrin. Degats+5, Armure PR-3\"),\n",
    "    (11, \"Partie armure detruite. PR=0\"),\n",
    "    (12, \"Oeil creve. Degats+5 et modifs*\"),\n",
    "    (13, \"Main tranche (1D6; droite=1-3; gauche=4-6). Degats+6 et modifs*\"),\n",
    "    (14, \"Pied tranche (1D6; droite=1-3; gauche=4-6). Degats+6 et modifs*\"),\n",
    "    (15, \"Bras tranche (1D6; droite=1-3; gauche=4-6). Degats+7 et modifs*\"),\n",
    "    (16, \"Jambe tranche (1D6; droite=1-3; gauche=4-6). Degats+8 et modifs*\"),\n",
    "    (17, \"Organe genitaux endommages (1D6; droite=1-3; gauche=4-6). Degats+5 et duree(1D6/min)\"),\n",
    "    (18, \"Organe vitale endommages (1D6; droite=1-3; gauche=4-6). Degats+9  et duree(1D6/min)\"),\n",
    "    (19, \"Blessure au coeur. Deces\"),\n",
    "    (20, \"Blessure grave a la tête. Deces\")\n",
    "])\n",
    "# Duplicate Entries\n",
    "critical_hits_bladed.update(dict([\n",
    "    (2, critical_hits_bladed[1]),\n",
    "    (4, critical_hits_bladed[3]),\n",
    "    (6, critical_hits_bladed[5]),\n",
    "    (8, critical_hits_bladed[7]),\n",
    "    (10, critical_hits_bladed[9])\n",
    "]))\n",
    "# Add To List\n",
    "crit_list.append(critical_hits_bladed);"
   ]
  },
  {
   "cell_type": "markdown",
   "id": "18f1bbe7",
   "metadata": {},
   "source": [
    "#### Attaque critique - Armes contondantes"
   ]
  },
  {
   "cell_type": "code",
   "execution_count": 4,
   "id": "62965993",
   "metadata": {},
   "outputs": [],
   "source": [
    "# Unique Entries\n",
    "critical_hits_blunt=dict([\n",
    "    (\"name\", \"critical_hits_blunt\"),\n",
    "    (1, \"Ematome impressionant. Degats+1\"),\n",
    "    (3, \"Ematome et luxation d'un membre. Degats+2\"),\n",
    "    (5, \"Fracture de cote. Degats+3\"),\n",
    "    (7, \"Coup précis et dommages à l'armure. Degats+4, Armure PR-1\"),\n",
    "    (9, \"Coup précis de bourrin et dommages à l'armure. Degats+5, Armure PR-2\"),\n",
    "    (11, \"Une partie de l'armure est detruite. 1 piece armure PR=0\"),\n",
    "    (12, \"Luxation du genou. Degats+3 et modifs*\"),\n",
    "    (13, \"Main cassee (1D6; droite=1-3; gauche=4-6). Degats+3 et modifs*\"),\n",
    "    (14, \"Pied ecrase (1D6; droite=1-3; gauche=4-6). Degats+3 et modifs*\"),\n",
    "    (15, \"Bras casse (1D6; droite=1-3; gauche=4-6). Degats+4 et modifs*\"),\n",
    "    (16, \"Jambe cassee (1D6; droite=1-3; gauche=4-6). Degats+5 et modifs*\"),\n",
    "    (17, \"Organes genitaux ecrase. Degats+5 et modifs*\"),\n",
    "    (18, \"Assomme. Inconscient\"),\n",
    "    (19, \"Fracture ouverte du crane. Deces\"),\n",
    "    (20, \"Ecrasement violent d'un organe vital. Deces\")\n",
    "])\n",
    "# Duplicate Entries\n",
    "critical_hits_blunt.update(dict([\n",
    "    (2, critical_hits_blunt[1]),\n",
    "    (4, critical_hits_blunt[3]),\n",
    "    (6, critical_hits_blunt[5]),\n",
    "    (8, critical_hits_blunt[7]),\n",
    "    (10, critical_hits_blunt[9])\n",
    "]))\n",
    "# Add To List\n",
    "crit_list.append(critical_hits_blunt);"
   ]
  },
  {
   "cell_type": "markdown",
   "id": "5af443ee",
   "metadata": {},
   "source": [
    "#### Attaque critique - Mains nues"
   ]
  },
  {
   "cell_type": "code",
   "execution_count": 5,
   "id": "17851c1d",
   "metadata": {},
   "outputs": [],
   "source": [
    "# Unique Entries\n",
    "critical_hits_hand2hand=dict([\n",
    "    (\"name\", \"critical_hits_hand2hand\"),\n",
    "    (1, \"Ematome impressionant. Degats+1\"),\n",
    "    (3, \"Ematome et luxation d'un membre. Degats+2\"),\n",
    "    (5, \"Fracture du nez, hemorragie nasale. Degats+3\"),\n",
    "    (7, \"Fracture de cote. Degats+4\"),\n",
    "    (9, \"Coup precis de bourrin dans la tempe. degats+2; cible etourdie 3 assauts\"),\n",
    "    (11, \"Coup precis au sternum. Cible etourdie 4 assauts\"),\n",
    "    (12, \"Luxation de genou. Degats+3 et modifs*\"),\n",
    "    (13, \"Main cassee (1D6; droite=1-3; gauche=4-6). Degats+3 et modifs*\"),\n",
    "    (14, \"Machoire brisee. Degats+3; incapacite a parler\"),\n",
    "    (15, \"Bras cassee (1D6; droite=1-3; gauche=4-6). Degats+4 et modifs*\"),\n",
    "    (16, \"Organes genitaux ecrase, houlala. Degats+5 et modifs*\"),\n",
    "    (18, \"Assomme. Inconscient\"),\n",
    "    (20, \"Enfoncement du nez dans le cerveau; Deces\")\n",
    "])\n",
    "# Duplicate Entries\n",
    "critical_hits_hand2hand.update(dict([\n",
    "    (2, critical_hits_hand2hand[1]),\n",
    "    (4, critical_hits_hand2hand[3]),\n",
    "    (6, critical_hits_hand2hand[5]),\n",
    "    (8, critical_hits_hand2hand[7]),\n",
    "    (10, critical_hits_hand2hand[9]),\n",
    "    (17, critical_hits_hand2hand[16]),\n",
    "    (19, critical_hits_hand2hand[18])\n",
    "]))\n",
    "# Add To List\n",
    "crit_list.append(critical_hits_hand2hand);"
   ]
  },
  {
   "cell_type": "markdown",
   "id": "2cc4c8d0",
   "metadata": {},
   "source": [
    "#### Attaque critique - Projectile"
   ]
  },
  {
   "cell_type": "code",
   "execution_count": 6,
   "id": "879bc825",
   "metadata": {},
   "outputs": [],
   "source": [
    "# Unique Entries\n",
    "critical_hits_projectile=dict([\n",
    "    (\"name\", \"critical_hits_projectile\"),\n",
    "    (1, \"Projectile bien place. Degats+1\"),\n",
    "    (3, \"Projectile magistralement place. Degats+2\"),\n",
    "    (5, \"Projectile dans une articulation du bras. Degats+3, AT/PRD-2\"),\n",
    "    (7, \"Projectile dans une articulation de la jambe. Degats+3; mvt-50%\"),\n",
    "    (9, \"Projectile dans un poumon. Degats+3, toutes caracs -1\"),\n",
    "    (12, \"Projectile d maitre. Degats+5\"),\n",
    "    (17, \"En plein dans les organes genitaux, bien fait! Degats+5 et duree**\"),\n",
    "    (18, \"Organe vital endommage. Degats+6 et duree**\"),\n",
    "    (19, \"Coeur transperce. Deces\"),\n",
    "    (20, \"Oeil et cerveau transperce, bien fait! Deces\")\n",
    "])\n",
    "# Duplicate Entries\n",
    "critical_hits_projectile.update(dict([\n",
    "    (2, critical_hits_projectile[1]),\n",
    "    (4, critical_hits_projectile[3]),\n",
    "    (6, critical_hits_projectile[5]),\n",
    "    (8, critical_hits_projectile[7]),\n",
    "    (10, critical_hits_projectile[9]),\n",
    "    (11, critical_hits_projectile[9]),\n",
    "    (13, critical_hits_projectile[12]),\n",
    "    (14, critical_hits_projectile[12]),\n",
    "    (15, critical_hits_projectile[12]),\n",
    "    (16, critical_hits_projectile[12])\n",
    "]))\n",
    "# Add To List\n",
    "crit_list.append(critical_hits_projectile);"
   ]
  },
  {
   "cell_type": "markdown",
   "id": "69d25dcc",
   "metadata": {},
   "source": [
    "#### Parade critique"
   ]
  },
  {
   "cell_type": "code",
   "execution_count": 7,
   "id": "4f8fb000",
   "metadata": {},
   "outputs": [],
   "source": [
    "# Unique Entries\n",
    "critical_hits_block=dict([\n",
    "    (\"name\", \"critical_hits_block\"),\n",
    "    (1, \"Mais non en fait, la parade etait normale\"),\n",
    "    (3, \"Ennemi repousse. Assaut rate\"),\n",
    "    (6, \"Ennemi trebuche. Subit 1 attaque imparable\"),\n",
    "    (8, \"Ennemi tombe. Subit 2 attaques imparables\"),\n",
    "    (10, \"Ennemi lache son arme a 1D6 m. Il combat a main nues\"),\n",
    "    (13, \"Ennemi casse son arme. Il combat a main nues\"),\n",
    "    (16, \"Ennemi recoit un coup de votre arme. Il subit des degats\"),\n",
    "    (19, \"Ennemi subit un coup critique avec votre arme. Degats de la table critique\"),\n",
    "    (20, \"Ennemi, ce loser, subit un coup critique avec votre arme. Degats de la table critique\")\n",
    "])\n",
    "# Duplicate Entries\n",
    "critical_hits_block.update(dict([\n",
    "    (2, critical_hits_block[1]),\n",
    "    (4, critical_hits_block[3]),\n",
    "    (5, critical_hits_block[3]),\n",
    "    (7, critical_hits_block[6]),\n",
    "    (9, critical_hits_block[8]),\n",
    "    (11, critical_hits_block[10]),\n",
    "    (12, critical_hits_block[10]),\n",
    "    (14, critical_hits_block[13]),\n",
    "    (15, critical_hits_block[13]),\n",
    "    (17, critical_hits_block[16]),\n",
    "    (18, critical_hits_block[16])\n",
    "]))\n",
    "# Add To List\n",
    "crit_list.append(critical_hits_block);"
   ]
  },
  {
   "cell_type": "markdown",
   "id": "c93b768e",
   "metadata": {},
   "source": [
    "#### Maladresse - Standard"
   ]
  },
  {
   "cell_type": "code",
   "execution_count": 8,
   "id": "ac3aa236",
   "metadata": {},
   "outputs": [],
   "source": [
    "# Unique Entries\n",
    "clumsy_hits_standard=dict([\n",
    "    (\"name\", \"clumsy_hits_standard\"),\n",
    "    (1, \"Rattrape son erreur in extremis. Attaque rate uniquement\"),\n",
    "    (3, \"Trebuche et chute maladroitement. Rate 2 assauts\"),\n",
    "    (6, \"Frappe un allie proche vers la gauche. Degats sur allie\"),\n",
    "    (8, \"Frappe un allie proche vers la droite. Degats sur allie\"),\n",
    "    (10, \"Lache son arme comme un loser. Combats mains nues, change d'arme\"),\n",
    "    (13, \"Casse son arme (selon point rupture). Combats mains nues, change d'arme\"),\n",
    "    (16, \"Se blesse tout seul comme un cake. Tirer des degats sur le combattant\"),\n",
    "    (19, \"Se blesse tres severement de facon atroce et douloureuse. Degats sur le combattant (critique)\"),\n",
    "    (20, \"Perds un oeil (D1-2) un doigt (D3-6). Blessure grave**\")\n",
    "])\n",
    "# Duplicate Entries\n",
    "clumsy_hits_standard.update(dict([\n",
    "    (2, clumsy_hits_standard[1]),\n",
    "    (4, clumsy_hits_standard[3]),\n",
    "    (5, clumsy_hits_standard[3]),\n",
    "    (7, clumsy_hits_standard[6]),\n",
    "    (9, clumsy_hits_standard[8]),\n",
    "    (11, clumsy_hits_standard[10]),\n",
    "    (12, clumsy_hits_standard[10]),\n",
    "    (14, clumsy_hits_standard[13]),\n",
    "    (15, clumsy_hits_standard[13]),\n",
    "    (17, clumsy_hits_standard[16]),\n",
    "    (18, clumsy_hits_standard[16])\n",
    "]))\n",
    "# Add To List\n",
    "crit_list.append(clumsy_hits_standard);"
   ]
  },
  {
   "cell_type": "markdown",
   "id": "36a774bc",
   "metadata": {},
   "source": [
    "#### Maladresse - Sortileges"
   ]
  },
  {
   "cell_type": "code",
   "execution_count": 9,
   "id": "88e092a0",
   "metadata": {},
   "outputs": [],
   "source": [
    "# Unique Entries\n",
    "clumsy_hits_spells=dict([\n",
    "    (\"name\", \"clumsy_hits_spells\"),\n",
    "    (1, \"Rattrapage de derniere minute, sacre veinard. Sort echoue seulement\"),\n",
    "    (3, \"Sort s'evapore. 50% PA investi perdu\"),\n",
    "    (4, \"Sort s'evapore. 100% PA investi perdu\"),\n",
    "    (5, \"Le sort frappe la personne le plus proche sur la droite. Selon effet du sort\"),\n",
    "    (7, \"Le sort frappe la personne le plus proche sur la gauche. Selon effet du sort\"),\n",
    "    (9, \"Le sort frappe la personne le plus proche sur l'arriere. Selon effet du sort\"),\n",
    "    (11, \"Le sort frappe la personne le plus proche sur l'avant. Selon effet du sort\"),\n",
    "    (13, \"Choc en retour. Sort reviens sur lanceur selon effet du sort\"),\n",
    "    (17, \"Sort fou, zone d'effet multiplie par 1D10 m. Selon effet du sort\"),\n",
    "    (19, \"Sort entropique (sors de nulle part frappe n'importe qui, MJ decide) a destination d'un ennemi. Voir sort entropique\"),\n",
    "    (20, \"Sort entropique (sors de nulle part frappe n'importe qui, MJ decide) a destination d'un allie. Voir sort entropique\")\n",
    "])\n",
    "# Duplicate Entries\n",
    "clumsy_hits_spells.update(dict([\n",
    "    (2, clumsy_hits_spells[1]),\n",
    "    (6, clumsy_hits_spells[5]),\n",
    "    (8, clumsy_hits_spells[7]),\n",
    "    (10, clumsy_hits_spells[9]),\n",
    "    (12, clumsy_hits_spells[11]),\n",
    "    (14, clumsy_hits_spells[13]),\n",
    "    (15, clumsy_hits_spells[13]),\n",
    "    (16, clumsy_hits_spells[13]),\n",
    "    (18, clumsy_hits_spells[17])\n",
    "]))\n",
    "# Add To List\n",
    "crit_list.append(clumsy_hits_spells);"
   ]
  },
  {
   "cell_type": "markdown",
   "id": "9895a8c5",
   "metadata": {},
   "source": [
    "#### Maladresse - Arme a jets"
   ]
  },
  {
   "cell_type": "code",
   "execution_count": 10,
   "id": "fba54126",
   "metadata": {},
   "outputs": [],
   "source": [
    "# Unique Entries\n",
    "clumsy_hits_projectile=dict([\n",
    "    (\"name\", \"clumsy_hits_projectile\"),\n",
    "    (1, \"Rattrape son erreur in extremis. Projectile n'atteint pas sa cible\"),\n",
    "    (3, \"Lache son arme comme un loser. combat main nues ou change d'armes\"),\n",
    "    (6, \"Frappe un allie proche sur la gauche. Degats a calculer\"),\n",
    "    (8, \"Frappe un allie proche sur la droite. Degats a calculer\"),\n",
    "    (10, \"Frappe allie le plus lointain. Degats a calculer\"),\n",
    "    (13, \"Casse son arme (selon point rupture). Combats a main nues\"),\n",
    "    (16, \"Se tire dans le pied. Degats de l'arme+2\"),\n",
    "    (19, \"Se blesse tres severement dans un grand cri haineux. Degats sur le combattant (critique)\"),\n",
    "    (20, \"Creve l'oeil de l'allie le plus proche. Blessure grave**\")\n",
    "])\n",
    "# Duplicate Entries\n",
    "clumsy_hits_projectile.update(dict([\n",
    "    (2, clumsy_hits_projectile[1]),\n",
    "    (4, clumsy_hits_projectile[3]),\n",
    "    (5, clumsy_hits_projectile[3]),\n",
    "    (7, clumsy_hits_projectile[6]),\n",
    "    (9, clumsy_hits_projectile[8]),\n",
    "    (11, clumsy_hits_projectile[10]),\n",
    "    (12, clumsy_hits_projectile[10]),\n",
    "    (14, clumsy_hits_projectile[13]),\n",
    "    (15, clumsy_hits_projectile[13]),\n",
    "    (17, clumsy_hits_projectile[16]),\n",
    "    (18, clumsy_hits_projectile[16])\n",
    "]))\n",
    "# Add To List\n",
    "crit_list.append(clumsy_hits_projectile);"
   ]
  },
  {
   "cell_type": "markdown",
   "id": "1765a032",
   "metadata": {},
   "source": [
    "#### Maladresse - Main nues"
   ]
  },
  {
   "cell_type": "code",
   "execution_count": 11,
   "id": "70c9a938",
   "metadata": {},
   "outputs": [],
   "source": [
    "# Unique Entries\n",
    "clumsy_hits_hand2hand=dict([\n",
    "    (\"name\", \"clumsy_hits_hand2hand\"),\n",
    "    (1, \"Rattrape son erreur in extremis. Attaque echoue seulement\"),\n",
    "    (3, \"Tombe et s'ecrase le nez par terre.Perd 2 assauts, 2BL\"),\n",
    "    (11, \"Frappe un allie proche vers la gauche. Degats sur allie\"),\n",
    "    (13, \"Frappe un allie proche vers la droite. Degats sur allie\"),\n",
    "    (15, \"Se brise la main tout seul comme une tanche. 3BL, blessure grave**\"),\n",
    "    (17, \"Se casse un bras betement. 6BL, blessure grave**\"),\n",
    "    (20, \"Tombe en arriere et s'assomme. Perte de connaissance\")\n",
    "])\n",
    "# Duplicate Entries\n",
    "clumsy_hits_hand2hand.update(dict([\n",
    "    (2, clumsy_hits_hand2hand[1]),\n",
    "    (4, clumsy_hits_hand2hand[3]),\n",
    "    (5, clumsy_hits_hand2hand[3]),\n",
    "    (6, clumsy_hits_hand2hand[3]),\n",
    "    (7, clumsy_hits_hand2hand[3]),\n",
    "    (8, clumsy_hits_hand2hand[3]),\n",
    "    (9, clumsy_hits_hand2hand[3]),\n",
    "    (10, clumsy_hits_hand2hand[3]),\n",
    "    (12, clumsy_hits_hand2hand[11]),\n",
    "    (14, clumsy_hits_hand2hand[13]),\n",
    "    (16, clumsy_hits_hand2hand[15]),\n",
    "    (18, clumsy_hits_hand2hand[17]),\n",
    "    (19, clumsy_hits_hand2hand[17])\n",
    "]))\n",
    "# Add To List\n",
    "crit_list.append(clumsy_hits_hand2hand);"
   ]
  },
  {
   "cell_type": "markdown",
   "id": "5ca521fb",
   "metadata": {},
   "source": [
    "### Generate json from crit dictionaries"
   ]
  },
  {
   "cell_type": "code",
   "execution_count": 12,
   "id": "af1704fb",
   "metadata": {},
   "outputs": [],
   "source": [
    "for crit_table in crit_list:\n",
    "    json_object = json.dumps(crit_table, indent=4)\n",
    "    with open(crit_table[\"name\"]+\".json\", \"w\") as output_file:\n",
    "        output_file.write(json_object)"
   ]
  },
  {
   "cell_type": "code",
   "execution_count": null,
   "id": "23996581",
   "metadata": {},
   "outputs": [],
   "source": []
  }
 ],
 "metadata": {
  "kernelspec": {
   "display_name": "Python 3 (ipykernel)",
   "language": "python",
   "name": "python3"
  },
  "language_info": {
   "codemirror_mode": {
    "name": "ipython",
    "version": 3
   },
   "file_extension": ".py",
   "mimetype": "text/x-python",
   "name": "python",
   "nbconvert_exporter": "python",
   "pygments_lexer": "ipython3",
   "version": "3.9.12"
  }
 },
 "nbformat": 4,
 "nbformat_minor": 5
}
