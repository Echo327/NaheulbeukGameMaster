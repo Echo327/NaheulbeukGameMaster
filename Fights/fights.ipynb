{
 "cells": [
  {
   "cell_type": "code",
   "execution_count": 1,
   "id": "9dba7c34",
   "metadata": {},
   "outputs": [],
   "source": [
    "import inspect\n",
    "import glob"
   ]
  },
  {
   "cell_type": "code",
   "execution_count": 2,
   "id": "720263b3",
   "metadata": {},
   "outputs": [],
   "source": [
    "import ipywidgets as widgets\n",
    "from ipywidgets import interact, interact_manual"
   ]
  },
  {
   "cell_type": "code",
   "execution_count": 3,
   "id": "d03a0dbb",
   "metadata": {},
   "outputs": [],
   "source": [
    "from NPC import enemy"
   ]
  },
  {
   "cell_type": "code",
   "execution_count": 4,
   "id": "46597c35",
   "metadata": {},
   "outputs": [
    {
     "name": "stdout",
     "output_type": "stream",
     "text": [
      "(NAME, AT, PRD, EV, PR, WEAPON, DMG_DICE_N, DMG_BONUS, COU, EXP)\n"
     ]
    }
   ],
   "source": [
    "print(inspect.signature(enemy));\n",
    "#print(inspect.getfullargspec(enemy));"
   ]
  },
  {
   "cell_type": "markdown",
   "id": "586c6367",
   "metadata": {},
   "source": [
    "## Initialization"
   ]
  },
  {
   "cell_type": "code",
   "execution_count": 5,
   "id": "0fa0e2de",
   "metadata": {},
   "outputs": [],
   "source": [
    "# For previous saved state, use saved_encounter or save_file as filename\n",
    "#filename = \"encounters/Scenario_Gardes_Entree_Chateau\"\n",
    "#filename = \"encounters/Scenario_Gardes_Patrouilles\"\n",
    "#filename = \"encounters/Scenario_Valtordu_Chef_de_Garde\"\n",
    "#filename = \"encounters/Scenario_Rats_Pesteux\"\n",
    "#filename = \"encounters/Scenario_Valtordu_Chapichapos\"\n",
    "#filename = \"encounters/Scenario_Chnafon_Gronick\"\n",
    "#filename = \"encounters/Scenario_Chnafon_Ruflak\"\n",
    "filename = \"Sample_Encounter_1\"\n",
    "#filename = \"save_file\""
   ]
  },
  {
   "cell_type": "markdown",
   "id": "f1bd447f",
   "metadata": {},
   "source": [
    "### Reading enemies"
   ]
  },
  {
   "cell_type": "code",
   "execution_count": 6,
   "id": "198cb526",
   "metadata": {},
   "outputs": [],
   "source": [
    "# Check and prepare file for loading saved encounter\n",
    "if filename in [\"saved_encounter\", \"save_file\"]:\n",
    "    filename = \"current_save\"\n",
    "    relative_path = \"save_file/\"\n",
    "    states = glob.glob(relative_path+'saved_*')\n",
    "    states = [s[len(relative_path):] for s in states]\n",
    "        \n",
    "    compiled_save = str(len(states)) + \" (NAME, AT, PRD, EV, PR, WEAPON, DMG_DICE_N, DMG_BONUS, COU, EXP)\"\n",
    "    for save in states:\n",
    "        with open(relative_path+save, 'r') as file:\n",
    "            compiled_save += \"\\n\" + file.readline()\n",
    "    \n",
    "    with open(filename, 'w') as file:\n",
    "        file.write(compiled_save)"
   ]
  },
  {
   "cell_type": "code",
   "execution_count": 7,
   "id": "90f25656",
   "metadata": {},
   "outputs": [],
   "source": [
    "# List of enemies\n",
    "enemies = []\n",
    "\n",
    "with open(filename, 'r') as file:\n",
    "    x = file.readline().split();\n",
    "    try:\n",
    "        nb_enemies = int(x[0])\n",
    "    except ValueError:\n",
    "        print(\"First line should be number of enemies followed by legend.\")\n",
    "    \n",
    "    for i in range(nb_enemies):\n",
    "        # Read enemy (1 line per enemy)\n",
    "        NAME, AT, PRD, EV, PR, WEAPON, DMG_DICE_N, DMG_BONUS, COU, EXP = file.readline().split();\n",
    "        # Convert specific variables to int for further use\n",
    "        AT, PRD, EV, PR, DMG_DICE_N, DMG_BONUS, COU, EXP = \\\n",
    "            int(AT), int(PRD), int(EV), int(PR), int(DMG_DICE_N), int(DMG_BONUS), int(COU), int(EXP)\n",
    "        # Create enemy instance\n",
    "        myVars = vars()\n",
    "        myVars[NAME] = enemy(NAME, AT, PRD, EV, PR, WEAPON, DMG_DICE_N, DMG_BONUS, COU, EXP)\n",
    "        enemies.append(myVars[NAME])"
   ]
  },
  {
   "cell_type": "code",
   "execution_count": 8,
   "id": "dd24a7de",
   "metadata": {
    "scrolled": true
   },
   "outputs": [
    {
     "name": "stdout",
     "output_type": "stream",
     "text": [
      "Rat a 7 en attaque, 5 en parade, 15 en EV, et une protection de 1.\n",
      "Armé de Teeth, qui fait des dégâts 1D6+2.\n",
      "Ils ont un courage de 8.\n",
      "Ils donnent 8 XP en mourant. \n",
      "\n",
      "Bat a 9 en attaque, 9 en parade, 12 en EV, et une protection de 2.\n",
      "Armé de Wings, qui fait des dégâts 2D6+1.\n",
      "Ils ont un courage de 10.\n",
      "Ils donnent 10 XP en mourant. \n",
      "\n"
     ]
    }
   ],
   "source": [
    "enemy_dict = {}\n",
    "for opponent in enemies:\n",
    "    enemy_dict.update({opponent.NAME:opponent})\n",
    "    print(opponent.info(),\"\\n\")"
   ]
  },
  {
   "cell_type": "code",
   "execution_count": 9,
   "id": "cf8db1b3",
   "metadata": {},
   "outputs": [
    {
     "data": {
      "application/vnd.jupyter.widget-view+json": {
       "model_id": "811cdff8bb50454e8383679ce30e7109",
       "version_major": 2,
       "version_minor": 0
      },
      "text/plain": [
       "interactive(children=(IntSlider(value=0, description='Update', max=1), Output()), _dom_classes=('widget-intera…"
      ]
     },
     "metadata": {},
     "output_type": "display_data"
    }
   ],
   "source": [
    "@interact\n",
    "def enemy_stats(Update=(0,1,1)):\n",
    "    for opponent in enemies:\n",
    "        print(opponent.NAME)\n",
    "        print(\"EV = \", opponent.EV,\"PR = \",opponent.PR)"
   ]
  },
  {
   "cell_type": "markdown",
   "id": "26aa532e",
   "metadata": {},
   "source": [
    "## Fight Sequence"
   ]
  },
  {
   "cell_type": "markdown",
   "id": "365b7f12",
   "metadata": {},
   "source": [
    "#### Attacking"
   ]
  },
  {
   "cell_type": "code",
   "execution_count": 10,
   "id": "3b595682",
   "metadata": {},
   "outputs": [
    {
     "name": "stdout",
     "output_type": "stream",
     "text": [
      "Rat fait 4 de dégâts en EV à son ennemi.\n",
      "Bat rate son attaque.\n",
      "--------------------\n",
      "If counter-attacked:\n",
      "\n",
      "Rat n'arrives pas à parer. Dégats à calculer.\n",
      "Bat n'arrives pas à parer. Dégats à calculer.\n",
      "\n",
      "Enemies:  [('Rat', 15, 'ALIVE'), ('Bat', 12, 'ALIVE')]\n"
     ]
    }
   ],
   "source": [
    "# Attack\n",
    "for opponent in enemies:\n",
    "    opponent.attack();\n",
    "    \n",
    "# If counter-attacked\n",
    "print(\"--------------------\");\n",
    "print(\"If counter-attacked:\\n\");\n",
    "for opponent in enemies:\n",
    "    opponent.counter();\n",
    "\n",
    "print(\"\\nEnemies: \",[(bad_guy.NAME,bad_guy.EV,bad_guy.state) for bad_guy in enemies]); # Names For Counter (if needed)"
   ]
  },
  {
   "cell_type": "code",
   "execution_count": 11,
   "id": "3e3bddc6",
   "metadata": {},
   "outputs": [
    {
     "data": {
      "application/vnd.jupyter.widget-view+json": {
       "model_id": "c2f803282ebd4cce80f029f841b3c127",
       "version_major": 2,
       "version_minor": 0
      },
      "text/plain": [
       "interactive(children=(IntSlider(value=10, description='Hit', max=20), Dropdown(description='Opponent', options…"
      ]
     },
     "metadata": {},
     "output_type": "display_data"
    }
   ],
   "source": [
    "#actions=[\"Attack\",\"Defend\",\"Counter\"]\n",
    "actions=[\"Defend\",\"Kill\"]\n",
    "@interact\n",
    "def enemy_update(Hit=(0,20,1),\n",
    "                Opponent=enemy_dict,\n",
    "                Action=actions,\n",
    "                CritHit=[False,True]):\n",
    "    print(Opponent.NAME)\n",
    "    print(\"EV = \", Opponent.EV,\"PR = \",Opponent.PR)\n",
    "    global hit,opponent,action,crit\n",
    "    opponent=Opponent\n",
    "    hit=Hit\n",
    "    action=Action\n",
    "    crit=CritHit"
   ]
  },
  {
   "cell_type": "code",
   "execution_count": 13,
   "id": "055a8b41",
   "metadata": {},
   "outputs": [
    {
     "name": "stdout",
     "output_type": "stream",
     "text": [
      "Rat arrive à parer l'attaque!\n",
      "Rat contre-attaque.\n",
      "Rat rate son attaque.\n",
      "Rat est en vie avec 6 EV.\n"
     ]
    }
   ],
   "source": [
    "if action==\"Attack\":\n",
    "    opponent.attack();\n",
    "    opponent.counter();\n",
    "if action==\"Defend\" and not crit:\n",
    "    opponent.defend(hit);\n",
    "if action==\"Defend\" and crit:\n",
    "    opponent.take_damage(hit);\n",
    "    opponent.next_phase();\n",
    "if action==\"Kill\":\n",
    "    opponent.EV = 0\n",
    "    opponent.next_phase();"
   ]
  },
  {
   "cell_type": "code",
   "execution_count": null,
   "id": "75357e16",
   "metadata": {},
   "outputs": [],
   "source": []
  }
 ],
 "metadata": {
  "kernelspec": {
   "display_name": "Python 3 (ipykernel)",
   "language": "python",
   "name": "python3"
  },
  "language_info": {
   "codemirror_mode": {
    "name": "ipython",
    "version": 3
   },
   "file_extension": ".py",
   "mimetype": "text/x-python",
   "name": "python",
   "nbconvert_exporter": "python",
   "pygments_lexer": "ipython3",
   "version": "3.9.12"
  }
 },
 "nbformat": 4,
 "nbformat_minor": 5
}
