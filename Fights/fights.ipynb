{
 "cells": [
  {
   "cell_type": "markdown",
   "id": "ff65d1f1",
   "metadata": {},
   "source": [
    "This notebook allows the loading or creation of _enemy_ NPC entities and semi-automates a fight scene in the roleplaying game Naheulbeuk. "
   ]
  },
  {
   "cell_type": "markdown",
   "id": "54e55c52",
   "metadata": {},
   "source": [
    "### Dependencies"
   ]
  },
  {
   "cell_type": "code",
   "execution_count": null,
   "id": "9dba7c34",
   "metadata": {},
   "outputs": [],
   "source": [
    "# Live Object Info\n",
    "import inspect\n",
    "\n",
    "# UNIX pathname handling\n",
    "import glob\n",
    "\n",
    "# Interactive Control\n",
    "import ipywidgets as widgets\n",
    "from ipywidgets import interact, interact_manual"
   ]
  },
  {
   "cell_type": "markdown",
   "id": "632ecc1c",
   "metadata": {},
   "source": [
    "### Load Enemy Class"
   ]
  },
  {
   "cell_type": "code",
   "execution_count": null,
   "id": "d03a0dbb",
   "metadata": {},
   "outputs": [],
   "source": [
    "from NPC import enemy"
   ]
  },
  {
   "cell_type": "markdown",
   "id": "05f9d05a",
   "metadata": {},
   "source": [
    "Refer to Naheulbeuk User Guide for attribute details."
   ]
  },
  {
   "cell_type": "code",
   "execution_count": null,
   "id": "46597c35",
   "metadata": {},
   "outputs": [],
   "source": [
    "print(inspect.signature(enemy));\n",
    "#print(inspect.getfullargspec(enemy));"
   ]
  },
  {
   "cell_type": "markdown",
   "id": "dd15013a",
   "metadata": {},
   "source": [
    "Functions"
   ]
  },
  {
   "cell_type": "code",
   "execution_count": null,
   "id": "3b595682",
   "metadata": {
    "scrolled": true
   },
   "outputs": [],
   "source": [
    "def everyone_attack():\n",
    "    # Attack\n",
    "    for opponent in enemies:\n",
    "        opponent.attack();\n",
    "\n",
    "    # If counter-attacked\n",
    "    print(\"--------------------\");\n",
    "    print(\"If counter-attacked:\\n\");\n",
    "    for opponent in enemies:\n",
    "        opponent.counter();\n",
    "\n",
    "    print(\"\\nEnemies: \",[(bad_guy.NAME,bad_guy.EV,bad_guy.state) for bad_guy in enemies]); # Names For Counter (if needed)\n",
    "    \n",
    "actions=[\"Defend\",\"Kill\",\"Heal\"]\n",
    "def process_action():\n",
    "    # TODO: opponent should not be global, but argument.\n",
    "    # TODO: Should action be argument too?\n",
    "    if action not in actions:\n",
    "        print(\"Unknown action [\"+action+\"].\")\n",
    "    if action==\"Attack\":\n",
    "        opponent.attack();\n",
    "        opponent.counter();\n",
    "    if action==\"Defend\" and not crit:\n",
    "        opponent.defend(hit);\n",
    "    if action==\"Defend\" and crit:\n",
    "        opponent.take_damage(hit);\n",
    "        opponent.next_phase();\n",
    "    if action==\"Kill\":\n",
    "        opponent.EV = 0\n",
    "        opponent.next_phase();\n",
    "    if action==\"Heal\":\n",
    "        opponent.gain_health(hit);\n",
    "    # TODO: Add Revive\n",
    "    \n",
    "def enemy_stats():\n",
    "    for opponent in enemies:\n",
    "        print('\\033[30m'\"--- \",opponent.NAME,\" ---\")\n",
    "        # TODO: Colour depending on state\n",
    "        print('\\033[32m'\"EV = \", opponent.EV,\"PR = \",opponent.PR, \"Statut = \", opponent.state)"
   ]
  },
  {
   "cell_type": "markdown",
   "id": "586c6367",
   "metadata": {},
   "source": [
    "## Initialization"
   ]
  },
  {
   "cell_type": "markdown",
   "id": "f1bd447f",
   "metadata": {},
   "source": [
    "### Reading enemies"
   ]
  },
  {
   "cell_type": "markdown",
   "id": "0807ffa0",
   "metadata": {},
   "source": [
    "Load the NPCs defined in a file or define your own.\n",
    "\n",
    "NOTE: Do not launch following cell again once the fight has started at the risk of losing all progress."
   ]
  },
  {
   "cell_type": "code",
   "execution_count": null,
   "id": "0fa0e2de",
   "metadata": {},
   "outputs": [],
   "source": [
    "# TODO: Add toggle to start a new fight or load new enemies into ongoing fight\n",
    "\n",
    "# Load an encounter from file, or\n",
    "# TODO: Add interactive selection from encounters folder\n",
    "filename = \"Sample_Encounter_2\"\n",
    "# filename = \"encounters/Scenario_Gardes_Entree_Chateau\"\n",
    "# filename = \"encounters/Scenario_Gardes_Patrouilles\"\n",
    "# filename = \"encounters/Scenario_Valtordu_Chef_de_Garde\"\n",
    "# filename = \"encounters/Scenario_Rats_Pesteux\"\n",
    "# filename = \"encounters/Scenario_Valtordu_Chapichapos\"\n",
    "# filename = \"encounters/Scenario_Chnafon_Gronick\"\n",
    "# filename = \"encounters/Scenario_Chnafon_Ruflak\"\n",
    "\n",
    "# Define your own encounter, or\n",
    "# TODO: Add sample for in-line encounter definition here (instead of encounter or saved file)\n",
    "# TODO: Add interactive enemy adding\n",
    "\n",
    "# Load a previously saved state (default = save_file)\n",
    "# TODO: 1 save folder/file per encounter file loaded so individual encounters can be saved and loaded\n",
    "# filename = \"save_file\""
   ]
  },
  {
   "cell_type": "code",
   "execution_count": null,
   "id": "198cb526",
   "metadata": {},
   "outputs": [],
   "source": [
    "# Check and prepare file for loading saved encounter\n",
    "if filename in [\"saved_encounter\", \"save_file\"]:\n",
    "    filename = \"current_save\"\n",
    "    relative_path = \"save_file/\"\n",
    "    states = glob.glob(relative_path+'saved_*')\n",
    "    states = [s[len(relative_path):] for s in states]\n",
    "        \n",
    "    compiled_save = str(len(states)) + \" (NAME, AT, PRD, EV, PR, WEAPON, DMG_DICE_N, DMG_BONUS, COU, EXP)\"\n",
    "    for save in states:\n",
    "        with open(relative_path+save, 'r') as file:\n",
    "            compiled_save += \"\\n\" + file.readline()\n",
    "    \n",
    "    with open(filename, 'w') as file:\n",
    "        file.write(compiled_save)\n",
    "        \n",
    "# Create list of enemies\n",
    "enemies = []\n",
    "\n",
    "with open(filename, 'r') as file:\n",
    "    x = file.readline().split();\n",
    "    try:\n",
    "        nb_enemies = int(x[0])\n",
    "    except ValueError:\n",
    "        print(\"First line should be number of enemies followed by legend.\")\n",
    "    \n",
    "    for i in range(nb_enemies):\n",
    "        # Read enemy (1 line per enemy)\n",
    "        NAME, AT, PRD, EV, PR, WEAPON, DMG_DICE_N, DMG_BONUS, COU, EXP = file.readline().split();\n",
    "        # Convert specific variables to int for further use\n",
    "        AT, PRD, EV, PR, DMG_DICE_N, DMG_BONUS, COU, EXP = \\\n",
    "            int(AT), int(PRD), int(EV), int(PR), int(DMG_DICE_N), int(DMG_BONUS), int(COU), int(EXP)\n",
    "        # Create enemy instance\n",
    "        myVars = vars()\n",
    "        myVars[NAME] = enemy(NAME, AT, PRD, EV, PR, WEAPON, DMG_DICE_N, DMG_BONUS, COU, EXP)\n",
    "        enemies.append(myVars[NAME])\n",
    "        \n",
    "print(\"These enemies were loaded:\\n\")\n",
    "enemy_dict = {}\n",
    "for opponent in enemies:\n",
    "    enemy_dict.update({opponent.NAME:opponent})\n",
    "    print(opponent.info(),\"\\n\")"
   ]
  },
  {
   "cell_type": "markdown",
   "id": "97ed67fc",
   "metadata": {},
   "source": [
    "### Check Current Status\n",
    "Click on \"Check Current Status\" to check current enemies status at any time during the fight"
   ]
  },
  {
   "cell_type": "code",
   "execution_count": null,
   "id": "f91b6ad4",
   "metadata": {},
   "outputs": [],
   "source": [
    "# Check Current Status\n",
    "manual_status = interact_manual.options(manual_name=\"Check Current Status\")\n",
    "manual_status(enemy_stats);"
   ]
  },
  {
   "cell_type": "markdown",
   "id": "26aa532e",
   "metadata": {},
   "source": [
    "## Fight Sequence"
   ]
  },
  {
   "cell_type": "markdown",
   "id": "365b7f12",
   "metadata": {},
   "source": [
    "**Attacking:** All NPC enemies attack at once. Players need to roll dice to block or counter.\\\n",
    "**Defending:** Player hit needs to be input before \"Process Action\".\\\n",
    "**Check Current Status:** Click on \"Check Current Status\" to check current enemies status."
   ]
  },
  {
   "cell_type": "code",
   "execution_count": null,
   "id": "3e3bddc6",
   "metadata": {
    "scrolled": false
   },
   "outputs": [],
   "source": [
    "# TODO: Do dead enemies need to be removed from dropdown???\n",
    "@interact\n",
    "def enemy_update(Hit=(0,20,1),\n",
    "                Opponent=enemy_dict,\n",
    "                Action=actions,\n",
    "                CritHit=False):\n",
    "    print(Opponent.NAME)\n",
    "    if Opponent.state != \"ALIVE\":\n",
    "        print(\"This opponent is\", Opponent.state)\n",
    "    print(\"EV =\", Opponent.EV,\"PR =\",Opponent.PR)\n",
    "    global hit,opponent,action,crit\n",
    "    opponent=Opponent\n",
    "    hit=Hit\n",
    "    action=Action\n",
    "    crit=CritHit\n",
    "\n",
    "do_action = interact_manual.options(manual_name=\"Process Action\")\n",
    "do_action(process_action);\n",
    "\n",
    "all_attack = interact_manual.options(manual_name=\"Everyone Attack!\")\n",
    "all_attack(everyone_attack);\n",
    "\n",
    "# Check Current Status\n",
    "manual_status = interact_manual.options(manual_name=\"Check Current Status\")\n",
    "@manual_status\n",
    "def enemy_stats():\n",
    "    for opponent in enemies:\n",
    "        print('\\033[30m'\"--- \",opponent.NAME,\" ---\")\n",
    "        # TODO: Colour depending on state\n",
    "        print('\\033[32m'\"EV = \", opponent.EV,\"PR = \",opponent.PR, \"Statut = \", opponent.state)"
   ]
  },
  {
   "cell_type": "code",
   "execution_count": null,
   "id": "f87e238a",
   "metadata": {},
   "outputs": [],
   "source": []
  }
 ],
 "metadata": {
  "kernelspec": {
   "display_name": "Python 3 (ipykernel)",
   "language": "python",
   "name": "python3"
  },
  "language_info": {
   "codemirror_mode": {
    "name": "ipython",
    "version": 3
   },
   "file_extension": ".py",
   "mimetype": "text/x-python",
   "name": "python",
   "nbconvert_exporter": "python",
   "pygments_lexer": "ipython3",
   "version": "3.9.12"
  }
 },
 "nbformat": 4,
 "nbformat_minor": 5
}
