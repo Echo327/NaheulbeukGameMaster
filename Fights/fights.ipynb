{
 "cells": [
  {
   "cell_type": "code",
   "execution_count": null,
   "id": "9dba7c34",
   "metadata": {},
   "outputs": [],
   "source": [
    "import inspect"
   ]
  },
  {
   "cell_type": "code",
   "execution_count": null,
   "id": "d03a0dbb",
   "metadata": {},
   "outputs": [],
   "source": [
    "from NPC import enemy"
   ]
  },
  {
   "cell_type": "code",
   "execution_count": null,
   "id": "46597c35",
   "metadata": {},
   "outputs": [],
   "source": [
    "print(inspect.signature(enemy));\n",
    "#print(inspect.getfullargspec(enemy));"
   ]
  },
  {
   "cell_type": "markdown",
   "id": "586c6367",
   "metadata": {},
   "source": [
    "## Initialization"
   ]
  },
  {
   "cell_type": "markdown",
   "id": "f1bd447f",
   "metadata": {},
   "source": [
    "### Reading enemies - to change to read from file"
   ]
  },
  {
   "cell_type": "code",
   "execution_count": null,
   "id": "77c199c4",
   "metadata": {},
   "outputs": [],
   "source": [
    "Rat = enemy(\"Rat\",7,5,15,1,\"Teeth\",1,+2,8,8)\n",
    "Bat = enemy(\"Bat\",9,9,12,2,\"Wings\",2,+1,10,10)"
   ]
  },
  {
   "cell_type": "code",
   "execution_count": null,
   "id": "7fff7103",
   "metadata": {},
   "outputs": [],
   "source": [
    "enemies = [Rat, Bat]"
   ]
  },
  {
   "cell_type": "code",
   "execution_count": null,
   "id": "dd24a7de",
   "metadata": {},
   "outputs": [],
   "source": [
    "for opponent in enemies:\n",
    "    print(opponent.info(),\"\\n\")"
   ]
  },
  {
   "cell_type": "markdown",
   "id": "26aa532e",
   "metadata": {},
   "source": [
    "## Fight Sequence"
   ]
  },
  {
   "cell_type": "code",
   "execution_count": null,
   "id": "dc53da91",
   "metadata": {},
   "outputs": [],
   "source": [
    "# Temporary, for testing in absence of real players\n",
    "import random"
   ]
  },
  {
   "cell_type": "code",
   "execution_count": null,
   "id": "3b595682",
   "metadata": {},
   "outputs": [],
   "source": [
    "# Attack\n",
    "for opponent in enemies:\n",
    "    opponent.attack();\n",
    "    print();\n",
    "    \n",
    "# If counter-attacked\n",
    "print(\"--------------------\");\n",
    "print(\"If counter-attacked:\\n\");\n",
    "for opponent in enemies:\n",
    "    counter = random.randint(1,10);\n",
    "    opponent.countered(counter);\n",
    "    print();\n",
    "\n",
    "print([bad_guy.NAME for bad_guy in enemies]); # Names For Counter (if needed)"
   ]
  },
  {
   "cell_type": "code",
   "execution_count": null,
   "id": "b0e29f29",
   "metadata": {},
   "outputs": [],
   "source": [
    "# for taking counter hits - depends on player throw\n",
    "hit=5\n",
    "opponent = Rat\n",
    "\n",
    "opponent.take_damage(hit-opponent.PR)\n",
    "opponent.next_phase();"
   ]
  },
  {
   "cell_type": "code",
   "execution_count": null,
   "id": "793beb68",
   "metadata": {},
   "outputs": [],
   "source": [
    "# Defend when attacked\n",
    "for opponent in enemies:\n",
    "    hit = random.randint(1,10);\n",
    "    opponent.defend(hit);\n",
    "    print();"
   ]
  },
  {
   "cell_type": "code",
   "execution_count": null,
   "id": "75357e16",
   "metadata": {},
   "outputs": [],
   "source": []
  }
 ],
 "metadata": {
  "kernelspec": {
   "display_name": "Python 3 (ipykernel)",
   "language": "python",
   "name": "python3"
  },
  "language_info": {
   "codemirror_mode": {
    "name": "ipython",
    "version": 3
   },
   "file_extension": ".py",
   "mimetype": "text/x-python",
   "name": "python",
   "nbconvert_exporter": "python",
   "pygments_lexer": "ipython3",
   "version": "3.9.7"
  }
 },
 "nbformat": 4,
 "nbformat_minor": 5
}
