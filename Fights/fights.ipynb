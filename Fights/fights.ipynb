{
 "cells": [
  {
   "cell_type": "code",
   "execution_count": null,
   "id": "9dba7c34",
   "metadata": {},
   "outputs": [],
   "source": [
    "import inspect"
   ]
  },
  {
   "cell_type": "code",
   "execution_count": null,
   "id": "d03a0dbb",
   "metadata": {},
   "outputs": [],
   "source": [
    "from NPC import enemy"
   ]
  },
  {
   "cell_type": "code",
   "execution_count": null,
   "id": "46597c35",
   "metadata": {},
   "outputs": [],
   "source": [
    "print(inspect.signature(enemy));\n",
    "#print(inspect.getfullargspec(enemy));"
   ]
  },
  {
   "cell_type": "markdown",
   "id": "586c6367",
   "metadata": {},
   "source": [
    "## Initialization"
   ]
  },
  {
   "cell_type": "code",
   "execution_count": null,
   "id": "0fa0e2de",
   "metadata": {},
   "outputs": [],
   "source": [
    "filename = \"Sample_Encounter_1\""
   ]
  },
  {
   "cell_type": "markdown",
   "id": "f1bd447f",
   "metadata": {},
   "source": [
    "### Reading enemies"
   ]
  },
  {
   "cell_type": "code",
   "execution_count": null,
   "id": "90f25656",
   "metadata": {},
   "outputs": [],
   "source": [
    "# List of enemies\n",
    "enemies = []\n",
    "\n",
    "with open(filename) as file:\n",
    "    x = file.readline().split();\n",
    "    try:\n",
    "        nb_enemies = int(x[0])\n",
    "    except ValueError:\n",
    "        print(\"First line should be number of enemies followed by legend.\")\n",
    "    \n",
    "    for i in range(nb_enemies):\n",
    "        # Read enemy (1 line per enemy)\n",
    "        NAME, AT, PRD, EV, PR, WEAPON, DMG_DICE_N, DMG_BONUS, COU, EXP = file.readline().split();\n",
    "        # Convert specific variables to int for further use\n",
    "        AT, PRD, EV, PR, DMG_DICE_N, DMG_BONUS, COU, EXP = \\\n",
    "            int(AT), int(PRD), int(EV), int(PR), int(DMG_DICE_N), int(DMG_BONUS), int(COU), int(EXP)\n",
    "        # Create enemy instance\n",
    "        myVars = vars()\n",
    "        myVars[NAME] = enemy(NAME, AT, PRD, EV, PR, WEAPON, DMG_DICE_N, DMG_BONUS, COU, EXP)\n",
    "        enemies.append(myVars[NAME])"
   ]
  },
  {
   "cell_type": "code",
   "execution_count": null,
   "id": "dd24a7de",
   "metadata": {},
   "outputs": [],
   "source": [
    "for opponent in enemies:\n",
    "    print(opponent.info(),\"\\n\")"
   ]
  },
  {
   "cell_type": "markdown",
   "id": "26aa532e",
   "metadata": {},
   "source": [
    "## Fight Sequence"
   ]
  },
  {
   "cell_type": "code",
   "execution_count": null,
   "id": "dc53da91",
   "metadata": {},
   "outputs": [],
   "source": [
    "# Temporary, for testing in absence of real players\n",
    "import random"
   ]
  },
  {
   "cell_type": "code",
   "execution_count": null,
   "id": "3b595682",
   "metadata": {},
   "outputs": [],
   "source": [
    "# Attack\n",
    "for opponent in enemies:\n",
    "    opponent.attack();\n",
    "    print();\n",
    "    \n",
    "# If counter-attacked\n",
    "print(\"--------------------\");\n",
    "print(\"If counter-attacked:\\n\");\n",
    "for opponent in enemies:\n",
    "    counter = random.randint(1,10);\n",
    "    opponent.countered(counter);\n",
    "    print();\n",
    "\n",
    "print([bad_guy.NAME for bad_guy in enemies]); # Names For Counter (if needed)"
   ]
  },
  {
   "cell_type": "code",
   "execution_count": null,
   "id": "b0e29f29",
   "metadata": {},
   "outputs": [],
   "source": [
    "# for taking counter hits - depends on player throw\n",
    "hit=5\n",
    "opponent = Rat\n",
    "\n",
    "opponent.take_damage(hit-opponent.PR)\n",
    "opponent.next_phase();"
   ]
  },
  {
   "cell_type": "code",
   "execution_count": null,
   "id": "793beb68",
   "metadata": {},
   "outputs": [],
   "source": [
    "# Defend when attacked\n",
    "for opponent in enemies:\n",
    "    hit = random.randint(1,10);\n",
    "    opponent.defend(hit);\n",
    "    print();"
   ]
  },
  {
   "cell_type": "code",
   "execution_count": null,
   "id": "75357e16",
   "metadata": {},
   "outputs": [],
   "source": []
  }
 ],
 "metadata": {
  "kernelspec": {
   "display_name": "Python 3 (ipykernel)",
   "language": "python",
   "name": "python3"
  },
  "language_info": {
   "codemirror_mode": {
    "name": "ipython",
    "version": 3
   },
   "file_extension": ".py",
   "mimetype": "text/x-python",
   "name": "python",
   "nbconvert_exporter": "python",
   "pygments_lexer": "ipython3",
   "version": "3.9.12"
  }
 },
 "nbformat": 4,
 "nbformat_minor": 5
}
