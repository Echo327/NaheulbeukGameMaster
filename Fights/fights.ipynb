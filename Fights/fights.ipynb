{
 "cells": [
  {
   "cell_type": "code",
   "execution_count": null,
   "id": "9dba7c34",
   "metadata": {},
   "outputs": [],
   "source": [
    "import inspect\n",
    "import glob"
   ]
  },
  {
   "cell_type": "code",
   "execution_count": null,
   "id": "d03a0dbb",
   "metadata": {},
   "outputs": [],
   "source": [
    "from NPC import enemy"
   ]
  },
  {
   "cell_type": "code",
   "execution_count": null,
   "id": "46597c35",
   "metadata": {},
   "outputs": [],
   "source": [
    "print(inspect.signature(enemy));\n",
    "#print(inspect.getfullargspec(enemy));"
   ]
  },
  {
   "cell_type": "markdown",
   "id": "586c6367",
   "metadata": {},
   "source": [
    "## Initialization"
   ]
  },
  {
   "cell_type": "code",
   "execution_count": null,
   "id": "0fa0e2de",
   "metadata": {},
   "outputs": [],
   "source": [
    "# For previous saved state, use saved_encounter or save_file as filename\n",
    "#filename = \"encounters/Scenario_Gardes_Entree_Chateau\"\n",
    "#filename = \"encounters/Scenario_Gardes_Patrouilles\"\n",
    "#filename = \"encounters/Scenario_Valtordu_Chef_de_Garde\"\n",
    "#filename = \"encounters/Scenario_Rats_Pesteux\"\n",
    "#filename = \"encounters/Scenario_Valtordu_Chapichapos\"\n",
    "#filename = \"encounters/Scenario_Chnafon_Gronick\"\n",
    "#filename = \"encounters/Scenario_Chnafon_Ruflak\"\n",
    "filename = \"Sample_Encounter_1\"\n",
    "#filename = \"save_file\""
   ]
  },
  {
   "cell_type": "markdown",
   "id": "f1bd447f",
   "metadata": {},
   "source": [
    "### Reading enemies"
   ]
  },
  {
   "cell_type": "code",
   "execution_count": null,
   "id": "198cb526",
   "metadata": {},
   "outputs": [],
   "source": [
    "# Check and prepare file for loading saved encounter\n",
    "if filename in [\"saved_encounter\", \"save_file\"]:\n",
    "    filename = \"current_save\"\n",
    "    relative_path = \"save_file/\"\n",
    "    states = glob.glob(relative_path+'saved_*')\n",
    "    states = [s[len(relative_path):] for s in states]\n",
    "        \n",
    "    compiled_save = str(len(states)) + \" (NAME, AT, PRD, EV, PR, WEAPON, DMG_DICE_N, DMG_BONUS, COU, EXP)\"\n",
    "    for save in states:\n",
    "        with open(relative_path+save, 'r') as file:\n",
    "            compiled_save += \"\\n\" + file.readline()\n",
    "    \n",
    "    with open(filename, 'w') as file:\n",
    "        file.write(compiled_save)"
   ]
  },
  {
   "cell_type": "code",
   "execution_count": null,
   "id": "90f25656",
   "metadata": {},
   "outputs": [],
   "source": [
    "# List of enemies\n",
    "enemies = []\n",
    "\n",
    "with open(filename, 'r') as file:\n",
    "    x = file.readline().split();\n",
    "    try:\n",
    "        nb_enemies = int(x[0])\n",
    "    except ValueError:\n",
    "        print(\"First line should be number of enemies followed by legend.\")\n",
    "    \n",
    "    for i in range(nb_enemies):\n",
    "        # Read enemy (1 line per enemy)\n",
    "        NAME, AT, PRD, EV, PR, WEAPON, DMG_DICE_N, DMG_BONUS, COU, EXP = file.readline().split();\n",
    "        # Convert specific variables to int for further use\n",
    "        AT, PRD, EV, PR, DMG_DICE_N, DMG_BONUS, COU, EXP = \\\n",
    "            int(AT), int(PRD), int(EV), int(PR), int(DMG_DICE_N), int(DMG_BONUS), int(COU), int(EXP)\n",
    "        # Create enemy instance\n",
    "        myVars = vars()\n",
    "        myVars[NAME] = enemy(NAME, AT, PRD, EV, PR, WEAPON, DMG_DICE_N, DMG_BONUS, COU, EXP)\n",
    "        enemies.append(myVars[NAME])"
   ]
  },
  {
   "cell_type": "code",
   "execution_count": null,
   "id": "dd24a7de",
   "metadata": {
    "scrolled": true
   },
   "outputs": [],
   "source": [
    "for opponent in enemies:\n",
    "    print(opponent.info(),\"\\n\")"
   ]
  },
  {
   "cell_type": "markdown",
   "id": "26aa532e",
   "metadata": {},
   "source": [
    "## Fight Sequence"
   ]
  },
  {
   "cell_type": "raw",
   "id": "8a3c71d1",
   "metadata": {},
   "source": [
    "# Temporary, for testing in absence of real players\n",
    "import random"
   ]
  },
  {
   "cell_type": "code",
   "execution_count": null,
   "id": "3b595682",
   "metadata": {},
   "outputs": [],
   "source": [
    "# Attack\n",
    "for opponent in enemies:\n",
    "    opponent.attack();\n",
    "    \n",
    "# If counter-attacked\n",
    "print(\"--------------------\");\n",
    "print(\"If counter-attacked:\\n\");\n",
    "for opponent in enemies:\n",
    "    opponent.counter();\n",
    "\n",
    "print(\"\\nEnemies: \",[(bad_guy.NAME,bad_guy.EV,bad_guy.state) for bad_guy in enemies]); # Names For Counter (if needed)"
   ]
  },
  {
   "cell_type": "code",
   "execution_count": null,
   "id": "03d0212c",
   "metadata": {},
   "outputs": [],
   "source": [
    "# Target\n",
    "hit = 5\n",
    "opponent = Bat\n",
    "# Defend when attacked\n",
    "opponent.defend(hit);"
   ]
  },
  {
   "cell_type": "code",
   "execution_count": null,
   "id": "be4fa32e",
   "metadata": {},
   "outputs": [],
   "source": [
    "# For critical hit:\n",
    "opponent.take_damage(hit)\n",
    "opponent.next_phase();"
   ]
  },
  {
   "cell_type": "raw",
   "id": "5bf66780",
   "metadata": {},
   "source": [
    "# For normal hit (no block):\n",
    "opponent.take_damage(hit-opponent.PR)\n",
    "opponent.next_phase();"
   ]
  },
  {
   "cell_type": "code",
   "execution_count": null,
   "id": "fa268b34",
   "metadata": {},
   "outputs": [],
   "source": [
    "# Force kill an enemy\n",
    "opponent = Rat\n",
    "opponent.EV = 10\n",
    "opponent.next_phase();"
   ]
  },
  {
   "cell_type": "code",
   "execution_count": null,
   "id": "75357e16",
   "metadata": {},
   "outputs": [],
   "source": []
  }
 ],
 "metadata": {
  "kernelspec": {
   "display_name": "Python 3 (ipykernel)",
   "language": "python",
   "name": "python3"
  },
  "language_info": {
   "codemirror_mode": {
    "name": "ipython",
    "version": 3
   },
   "file_extension": ".py",
   "mimetype": "text/x-python",
   "name": "python",
   "nbconvert_exporter": "python",
   "pygments_lexer": "ipython3",
   "version": "3.9.12"
  }
 },
 "nbformat": 4,
 "nbformat_minor": 5
}
