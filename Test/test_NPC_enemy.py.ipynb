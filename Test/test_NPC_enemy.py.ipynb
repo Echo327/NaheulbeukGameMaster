{
 "cells": [
  {
   "cell_type": "code",
   "execution_count": 1,
   "id": "c582094a",
   "metadata": {},
   "outputs": [],
   "source": [
    "import sys\n",
    "sys.path.append('../Fights/')"
   ]
  },
  {
   "cell_type": "code",
   "execution_count": 2,
   "id": "d8621685",
   "metadata": {},
   "outputs": [],
   "source": [
    "import inspect\n",
    "from NPC import enemy"
   ]
  },
  {
   "cell_type": "code",
   "execution_count": 3,
   "id": "0bf78298",
   "metadata": {},
   "outputs": [
    {
     "name": "stdout",
     "output_type": "stream",
     "text": [
      "(NAME, AT, PRD, EV, PR, WEAPON, DMG_DICE_N, DMG_BONUS, COU, EXP)\n"
     ]
    }
   ],
   "source": [
    "print(inspect.signature(enemy));"
   ]
  },
  {
   "cell_type": "code",
   "execution_count": 4,
   "id": "38ec31af",
   "metadata": {},
   "outputs": [],
   "source": [
    "test_enemy_1 = enemy(\"Rat\",7,5,15,1,\"Teeth\",1,+2,8,8)\n",
    "test_enemy_2 = enemy(\"Bat\",9,9,12,2,\"Wings\",2,+1,10,10)\n",
    "enemies = [test_enemy_1, test_enemy_2]"
   ]
  },
  {
   "cell_type": "code",
   "execution_count": 5,
   "id": "17d915f7",
   "metadata": {},
   "outputs": [
    {
     "name": "stdout",
     "output_type": "stream",
     "text": [
      "Rat a 7 en attaque, 5 en parade, 15 en EV, et une protection de 1.\n",
      "Armé de Teeth, qui fait des dégâts 1D6+2.\n",
      "Ils ont un courage de 8.\n",
      "Ils donnent 8 XP en mourant. \n",
      "\n",
      "Bat a 9 en attaque, 9 en parade, 12 en EV, et une protection de 2.\n",
      "Armé de Wings, qui fait des dégâts 2D6+1.\n",
      "Ils ont un courage de 10.\n",
      "Ils donnent 10 XP en mourant.\n"
     ]
    }
   ],
   "source": [
    "print(test_enemy_1.info(),\"\\n\");\n",
    "print(test_enemy_2.info());"
   ]
  },
  {
   "cell_type": "markdown",
   "id": "5e99f2e8",
   "metadata": {},
   "source": [
    "### Starting Tests"
   ]
  },
  {
   "cell_type": "code",
   "execution_count": 6,
   "id": "50f152dd",
   "metadata": {},
   "outputs": [],
   "source": [
    "success_counter = 0;\n",
    "failure_counter = 0;\n",
    "\n",
    "def success():\n",
    "    print(\"\\033[1;32m PASS \\033[0m\")\n",
    "    global success_counter\n",
    "    success_counter += 1\n",
    "    return None\n",
    "    \n",
    "def failure():\n",
    "    print(\"\\033[1;31m FAIL \\033[0m\")\n",
    "    global failure_counter\n",
    "    failure_counter += 1\n",
    "    return None"
   ]
  },
  {
   "cell_type": "code",
   "execution_count": 7,
   "id": "e2471be1",
   "metadata": {},
   "outputs": [
    {
     "name": "stdout",
     "output_type": "stream",
     "text": [
      "Rat est en vie avec 15 EV.\n",
      "None\n",
      "Current Health: \u001b[1;32m PASS \u001b[0m\n",
      "Rat a pris 5 en dégats.\n",
      "Rat est en vie avec 10 EV.\n",
      "None\n",
      "Taking Damage: \u001b[1;32m PASS \u001b[0m\n",
      "Rat a récupéré 2 en EV.\n",
      "Rat est en vie avec 12 EV.\n",
      "None\n",
      "Healing: \u001b[1;32m PASS \u001b[0m\n"
     ]
    }
   ],
   "source": [
    "# take_damage\n",
    "# gain_health\n",
    "current_health = test_enemy_1.EV\n",
    "print(test_enemy_1.get_state());\n",
    "print(\"Current Health: \",end=\"\")\n",
    "if current_health == test_enemy_1.EV:\n",
    "    success();\n",
    "else:\n",
    "    failure();\n",
    "\n",
    "damage = 5\n",
    "test_enemy_1.take_damage(damage)\n",
    "current_health -= damage\n",
    "print(test_enemy_1.get_state());\n",
    "print(\"Taking Damage: \",end=\"\")\n",
    "if current_health == test_enemy_1.EV:\n",
    "    success();\n",
    "else:\n",
    "    failure();\n",
    "\n",
    "\n",
    "healing = 2\n",
    "test_enemy_1.gain_health(healing)\n",
    "current_health += healing\n",
    "print(test_enemy_1.get_state());\n",
    "print(\"Healing: \",end=\"\")\n",
    "if current_health == test_enemy_1.EV:\n",
    "    success();\n",
    "else:\n",
    "    failure();"
   ]
  },
  {
   "cell_type": "code",
   "execution_count": null,
   "id": "972325c4",
   "metadata": {},
   "outputs": [],
   "source": []
  },
  {
   "cell_type": "code",
   "execution_count": 8,
   "id": "fc575453",
   "metadata": {},
   "outputs": [
    {
     "name": "stdout",
     "output_type": "stream",
     "text": [
      "Tests passed =  3\n",
      "Tests failed =  0\n"
     ]
    }
   ],
   "source": [
    "print(\"Tests passed = \",success_counter)\n",
    "print(\"Tests failed = \",failure_counter)"
   ]
  },
  {
   "cell_type": "code",
   "execution_count": null,
   "id": "06e96130",
   "metadata": {},
   "outputs": [],
   "source": []
  }
 ],
 "metadata": {
  "kernelspec": {
   "display_name": "Python 3 (ipykernel)",
   "language": "python",
   "name": "python3"
  },
  "language_info": {
   "codemirror_mode": {
    "name": "ipython",
    "version": 3
   },
   "file_extension": ".py",
   "mimetype": "text/x-python",
   "name": "python",
   "nbconvert_exporter": "python",
   "pygments_lexer": "ipython3",
   "version": "3.9.7"
  }
 },
 "nbformat": 4,
 "nbformat_minor": 5
}
